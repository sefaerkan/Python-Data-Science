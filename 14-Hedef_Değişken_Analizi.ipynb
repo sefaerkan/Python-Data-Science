{
 "cells": [
  {
   "cell_type": "code",
   "execution_count": 1,
   "id": "29d99ba1",
   "metadata": {},
   "outputs": [],
   "source": [
    "import pandas as pd\n",
    "import numpy as np\n",
    "import seaborn as sns\n",
    "import matplotlib.pyplot as plt\n",
    "df = sns.load_dataset(\"titanic\")"
   ]
  },
  {
   "cell_type": "code",
   "execution_count": 5,
   "id": "f62e8e2e",
   "metadata": {},
   "outputs": [],
   "source": [
    "for col in df.columns:\n",
    "    if df[col].dtypes == \"bool\":\n",
    "        df[col] = df[col].astype(int)"
   ]
  },
  {
   "cell_type": "code",
   "execution_count": 6,
   "id": "8a3e8af3",
   "metadata": {},
   "outputs": [],
   "source": [
    "def grab_col_names(dataframe, cat_th=10, car_th=20):\n",
    "    cat_cols = [col for col in df.columns if str(df[col].dtypes) in [\"category\",\"object\",\"bool\"]]\n",
    "    num_but_cat = [col for col in df.columns if df[col].nunique() < 10 and df[col].dtypes in [\"int64\", \"float64\"]]\n",
    "    cat_but_car = [col for col in df.columns if df[col].nunique() > 20 and str(df[col].dtypes) in [\"category\",\"object\"]]\n",
    "    cat_cols = cat_cols + num_but_cat\n",
    "    cat_cols = [col for col in cat_cols if col not in cat_but_car]\n",
    "    \n",
    "    num_cols = [col for col in df.columns if df[col].dtypes in [\"int64\",\"float64\"]]\n",
    "    num_cols = [col for col in num_cols if col not in cat_cols]\n",
    "    \n",
    "    print(f\"Observations: {dataframe.shape[0]}\")\n",
    "    print(f\"Variables: {dataframe.shape[1]}\")\n",
    "    print(f\"cat_cols: {len(cat_cols)}\")\n",
    "    print(f\"num_cols: {len(num_cols)}\")\n",
    "    print(f\"cat_but_car: {len(cat_but_car)}\")\n",
    "    print(f\"num_but_cat: {len(num_but_cat)}\")\n",
    "    \n",
    "    return cat_cols, num_cols, cat_but_car"
   ]
  },
  {
   "cell_type": "code",
   "execution_count": 7,
   "id": "114f4e6d",
   "metadata": {
    "collapsed": true
   },
   "outputs": [
    {
     "name": "stdout",
     "output_type": "stream",
     "text": [
      "Observations: 891\n",
      "Variables: 15\n",
      "cat_cols: 11\n",
      "num_cols: 2\n",
      "cat_but_car: 0\n",
      "num_but_cat: 4\n"
     ]
    }
   ],
   "source": [
    "cat_cols, num_cols, cat_but_car = grab_col_names(df)"
   ]
  },
  {
   "cell_type": "code",
   "execution_count": 11,
   "id": "5d838faa",
   "metadata": {
    "collapsed": true
   },
   "outputs": [
    {
     "data": {
      "text/plain": [
       "sex\n",
       "female    0.742038\n",
       "male      0.188908\n",
       "Name: survived, dtype: float64"
      ]
     },
     "execution_count": 11,
     "metadata": {},
     "output_type": "execute_result"
    }
   ],
   "source": [
    "# Hedef değişkenin kategorik değişkenler ile analizi\n",
    "df.groupby(\"sex\")[\"survived\"].mean()"
   ]
  },
  {
   "cell_type": "code",
   "execution_count": 12,
   "id": "fc83f73c",
   "metadata": {},
   "outputs": [],
   "source": [
    "def target_summary_with_cat(dataframe,target,categorical_cat):\n",
    "    print(pd.DataFrame({\"TARGET_MEAN\":dataframe.groupby(categorical_cat)[target].mean()}))"
   ]
  },
  {
   "cell_type": "code",
   "execution_count": 14,
   "id": "341a8fec",
   "metadata": {
    "collapsed": true
   },
   "outputs": [
    {
     "name": "stdout",
     "output_type": "stream",
     "text": [
      "        TARGET_MEAN\n",
      "pclass             \n",
      "1          0.629630\n",
      "2          0.472826\n",
      "3          0.242363\n"
     ]
    }
   ],
   "source": [
    "target_summary_with_cat(df,\"survived\",\"pclass\")"
   ]
  },
  {
   "cell_type": "code",
   "execution_count": 16,
   "id": "8fb8d6bb",
   "metadata": {
    "collapsed": true
   },
   "outputs": [
    {
     "name": "stdout",
     "output_type": "stream",
     "text": [
      "        TARGET_MEAN\n",
      "sex                \n",
      "female     0.742038\n",
      "male       0.188908\n",
      "          TARGET_MEAN\n",
      "embarked             \n",
      "C            0.553571\n",
      "Q            0.389610\n",
      "S            0.336957\n",
      "        TARGET_MEAN\n",
      "class              \n",
      "First      0.629630\n",
      "Second     0.472826\n",
      "Third      0.242363\n",
      "       TARGET_MEAN\n",
      "who               \n",
      "child     0.590361\n",
      "man       0.163873\n",
      "woman     0.756458\n",
      "      TARGET_MEAN\n",
      "deck             \n",
      "A        0.466667\n",
      "B        0.744681\n",
      "C        0.593220\n",
      "D        0.757576\n",
      "E        0.750000\n",
      "F        0.615385\n",
      "G        0.500000\n",
      "             TARGET_MEAN\n",
      "embark_town             \n",
      "Cherbourg       0.553571\n",
      "Queenstown      0.389610\n",
      "Southampton     0.336957\n",
      "       TARGET_MEAN\n",
      "alive             \n",
      "no             0.0\n",
      "yes            1.0\n",
      "          TARGET_MEAN\n",
      "survived             \n",
      "0                 0.0\n",
      "1                 1.0\n",
      "        TARGET_MEAN\n",
      "pclass             \n",
      "1          0.629630\n",
      "2          0.472826\n",
      "3          0.242363\n",
      "       TARGET_MEAN\n",
      "sibsp             \n",
      "0         0.345395\n",
      "1         0.535885\n",
      "2         0.464286\n",
      "3         0.250000\n",
      "4         0.166667\n",
      "5         0.000000\n",
      "8         0.000000\n",
      "       TARGET_MEAN\n",
      "parch             \n",
      "0         0.343658\n",
      "1         0.550847\n",
      "2         0.500000\n",
      "3         0.600000\n",
      "4         0.000000\n",
      "5         0.200000\n",
      "6         0.000000\n"
     ]
    }
   ],
   "source": [
    "for col in cat_cols:\n",
    "    target_summary_with_cat(df,\"survived\",col)\n",
    "# Tüm kategorik değişkenlerde hayatta kalma değişkenini sorgulayıp ortalamasını aldık.    "
   ]
  },
  {
   "cell_type": "code",
   "execution_count": 18,
   "id": "c42cb507",
   "metadata": {
    "collapsed": true
   },
   "outputs": [
    {
     "data": {
      "text/html": [
       "<div>\n",
       "<style scoped>\n",
       "    .dataframe tbody tr th:only-of-type {\n",
       "        vertical-align: middle;\n",
       "    }\n",
       "\n",
       "    .dataframe tbody tr th {\n",
       "        vertical-align: top;\n",
       "    }\n",
       "\n",
       "    .dataframe thead th {\n",
       "        text-align: right;\n",
       "    }\n",
       "</style>\n",
       "<table border=\"1\" class=\"dataframe\">\n",
       "  <thead>\n",
       "    <tr style=\"text-align: right;\">\n",
       "      <th></th>\n",
       "      <th>age</th>\n",
       "    </tr>\n",
       "    <tr>\n",
       "      <th>survived</th>\n",
       "      <th></th>\n",
       "    </tr>\n",
       "  </thead>\n",
       "  <tbody>\n",
       "    <tr>\n",
       "      <th>0</th>\n",
       "      <td>30.626179</td>\n",
       "    </tr>\n",
       "    <tr>\n",
       "      <th>1</th>\n",
       "      <td>28.343690</td>\n",
       "    </tr>\n",
       "  </tbody>\n",
       "</table>\n",
       "</div>"
      ],
      "text/plain": [
       "                age\n",
       "survived           \n",
       "0         30.626179\n",
       "1         28.343690"
      ]
     },
     "execution_count": 18,
     "metadata": {},
     "output_type": "execute_result"
    }
   ],
   "source": [
    "# Hedef değişkenin sayısal değişkenler ile analizi\n",
    "df.groupby(\"survived\")[\"age\"].mean()\n",
    "# df.groupby(\"survived\").agg({\"age\":\"mean\"}) -> Böyle de yapılabilir\n",
    "# Hayatta kalan ve kalmayan insanların yaş ortalamasını aldık."
   ]
  },
  {
   "cell_type": "code",
   "execution_count": 19,
   "id": "b84ddf81",
   "metadata": {},
   "outputs": [],
   "source": [
    "def target_summary_with_num(dataframe,target,numerical_col):\n",
    "    print(dataframe.groupby(target).agg({numerical_col:\"mean\"}), end=\"\\n\\n\\n\")"
   ]
  },
  {
   "cell_type": "code",
   "execution_count": 20,
   "id": "a49010d8",
   "metadata": {
    "collapsed": true
   },
   "outputs": [
    {
     "name": "stdout",
     "output_type": "stream",
     "text": [
      "                age\n",
      "survived           \n",
      "0         30.626179\n",
      "1         28.343690\n",
      "\n",
      "\n"
     ]
    }
   ],
   "source": [
    "target_summary_with_num(df,\"survived\",\"age\")"
   ]
  },
  {
   "cell_type": "code",
   "execution_count": 21,
   "id": "edbac753",
   "metadata": {
    "collapsed": true
   },
   "outputs": [
    {
     "name": "stdout",
     "output_type": "stream",
     "text": [
      "                age\n",
      "survived           \n",
      "0         30.626179\n",
      "1         28.343690\n",
      "\n",
      "\n",
      "               fare\n",
      "survived           \n",
      "0         22.117887\n",
      "1         48.395408\n",
      "\n",
      "\n"
     ]
    }
   ],
   "source": [
    "for col in num_cols:\n",
    "    target_summary_with_num(df,\"survived\",col)"
   ]
  },
  {
   "cell_type": "code",
   "execution_count": null,
   "id": "9a356a6f",
   "metadata": {},
   "outputs": [],
   "source": []
  }
 ],
 "metadata": {
  "kernelspec": {
   "display_name": "Python 3 (ipykernel)",
   "language": "python",
   "name": "python3"
  },
  "language_info": {
   "codemirror_mode": {
    "name": "ipython",
    "version": 3
   },
   "file_extension": ".py",
   "mimetype": "text/x-python",
   "name": "python",
   "nbconvert_exporter": "python",
   "pygments_lexer": "ipython3",
   "version": "3.10.9"
  }
 },
 "nbformat": 4,
 "nbformat_minor": 5
}
